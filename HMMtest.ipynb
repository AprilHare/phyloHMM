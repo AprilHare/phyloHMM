{
 "cells": [
  {
   "cell_type": "code",
   "execution_count": 12,
   "metadata": {
    "collapsed": false
   },
   "outputs": [],
   "source": [
    "# a first run through implementing a phylo HMM\n",
    "import numpy as np\n",
    "\n",
    "import Bio\n",
    "from Bio import HMM\n",
    "from Bio import Phylo\n",
    "\n",
    "from hmmlearn import hmm\n",
    "\n",
    "\n",
    "# set up an example HMM\n",
    "\n",
    "testModel = hmm.MultinomialHMM(n_components=3)\n",
    "testModel.startprob_ = np.array([0.6, 0.3, 0.1])\n",
    "testModel.transmat_ = np.array([[0.7, 0.2, 0.1],\n",
    "                                 [0.3, 0.5, 0.2],\n",
    "                                 [0.3, 0.3, 0.4]])\n",
    "\n",
    "#testModel.means_ = np.array([[0.0, 0.0], [3.0, -3.0], [5.0, 10.0]])\n",
    "#testModel.covars_ = np.tile(np.identity(2), (3, 1, 1))\n",
    "testModel.n_features = 3\n",
    "testModel.emissionprob_ = np.eye(3)\n",
    "\n",
    "X, Z = testModel.sample(100)  # X is the sequence of emissions, Z is the sequence of states\n",
    "\n",
    "\n",
    "\n"
   ]
  },
  {
   "cell_type": "code",
   "execution_count": 13,
   "metadata": {
    "collapsed": false
   },
   "outputs": [
    {
     "data": {
      "text/plain": [
       "array([0, 0, 0, 0, 0, 0, 1, 1, 2, 2, 2, 2, 0, 2, 2, 0, 1, 1, 1, 0, 0, 0, 0,\n",
       "       2, 2, 1, 1, 1, 2, 1, 2, 0, 0, 1, 1, 1, 0, 1, 1, 1, 1, 0, 0, 2, 2, 1,\n",
       "       1, 1, 2, 0, 1, 1, 0, 0, 1, 1, 1, 2, 0, 0, 0, 0, 0, 0, 0, 0, 1, 1, 2,\n",
       "       2, 2, 2, 1, 0, 0, 0, 0, 0, 0, 0, 0, 0, 0, 2, 0, 0, 1, 1, 2, 0, 1, 1,\n",
       "       1, 2, 2, 2, 1, 0, 1, 0])"
      ]
     },
     "execution_count": 13,
     "metadata": {},
     "output_type": "execute_result"
    }
   ],
   "source": [
    "Z"
   ]
  },
  {
   "cell_type": "code",
   "execution_count": 16,
   "metadata": {
    "collapsed": false
   },
   "outputs": [
    {
     "data": {
      "text/plain": [
       "array([0, 0, 0, 0, 0, 0, 1, 1, 2, 2, 2, 2, 0, 2, 2, 0, 1, 1, 1, 0, 0, 0, 0,\n",
       "       2, 2, 1, 1, 1, 2, 1, 2, 0, 0, 1, 1, 1, 0, 1, 1, 1, 1, 0, 0, 2, 2, 1,\n",
       "       1, 1, 2, 0, 1, 1, 0, 0, 1, 1, 1, 2, 0, 0, 0, 0, 0, 0, 0, 0, 1, 1, 2,\n",
       "       2, 2, 2, 1, 0, 0, 0, 0, 0, 0, 0, 0, 0, 0, 2, 0, 0, 1, 1, 2, 0, 1, 1,\n",
       "       1, 2, 2, 2, 1, 0, 1, 0])"
      ]
     },
     "execution_count": 16,
     "metadata": {},
     "output_type": "execute_result"
    }
   ],
   "source": [
    "X.T.squeeze()"
   ]
  },
  {
   "cell_type": "code",
   "execution_count": null,
   "metadata": {
    "collapsed": true
   },
   "outputs": [],
   "source": []
  },
  {
   "cell_type": "code",
   "execution_count": null,
   "metadata": {
    "collapsed": true
   },
   "outputs": [],
   "source": []
  },
  {
   "cell_type": "code",
   "execution_count": null,
   "metadata": {
    "collapsed": true
   },
   "outputs": [],
   "source": []
  },
  {
   "cell_type": "code",
   "execution_count": null,
   "metadata": {
    "collapsed": true
   },
   "outputs": [],
   "source": []
  },
  {
   "cell_type": "code",
   "execution_count": null,
   "metadata": {
    "collapsed": true
   },
   "outputs": [],
   "source": []
  }
 ],
 "metadata": {
  "kernelspec": {
   "display_name": "Python 2",
   "language": "python",
   "name": "python2"
  },
  "language_info": {
   "codemirror_mode": {
    "name": "ipython",
    "version": 2
   },
   "file_extension": ".py",
   "mimetype": "text/x-python",
   "name": "python",
   "nbconvert_exporter": "python",
   "pygments_lexer": "ipython2",
   "version": "2.7.11"
  }
 },
 "nbformat": 4,
 "nbformat_minor": 0
}
