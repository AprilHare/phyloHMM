{
 "cells": [
  {
   "cell_type": "code",
   "execution_count": 72,
   "metadata": {
    "collapsed": false
   },
   "outputs": [
    {
     "data": {
      "text/plain": [
       "array([1, 2, 2, 1])"
      ]
     },
     "execution_count": 72,
     "metadata": {},
     "output_type": "execute_result"
    }
   ],
   "source": [
    "# a first run through implementing a phylo HMM\n",
    "import numpy as np\n",
    "\n",
    "import Bio\n",
    "from Bio import HMM\n",
    "from Bio import Phylo\n",
    "\n",
    "from hmmlearn import hmm\n",
    "\n",
    "\n",
    "# set up an example HMM\n",
    "\n",
    "testModel = hmm.MultinomialHMM(n_components=3)\n",
    "testModel.startprob_ = 1./0.9 * np.array([0.3, 0.3, 0.3])\n",
    "testModel.transmat_ = 1./0.9 *np.array([[0.3, 0.3, 0.3],\n",
    "                                 [0.3, 0.3, 0.3],\n",
    "                                 [0.1, 0.3, 0.5]])\n",
    "\n",
    "#testModel.means_ = np.array([[0.0, 0.0], [3.0, -3.0], [5.0, 10.0]])\n",
    "#testModel.covars_ = np.tile(np.identity(2), (3, 1, 1))\n",
    "testModel.n_features = 4\n",
    "testModel.emissionprob_ = ( np.ones((3,4)) + np.eye(4)[:-1, :]   )/ 5\n",
    "\n",
    "#X, Z = testModel.sample(100)  # X is the sequence of emissions, Z is the sequence of states\n",
    "\n",
    "X = np.array([[2,3,0,1]] ).T\n",
    "testModel.predict(np.array([[1,2,3,1]] ).T)\n"
   ]
  },
  {
   "cell_type": "code",
   "execution_count": 62,
   "metadata": {
    "collapsed": false
   },
   "outputs": [
    {
     "data": {
      "text/plain": [
       "array([[ 0.4,  0.2,  0.2,  0.2],\n",
       "       [ 0.2,  0.4,  0.2,  0.2],\n",
       "       [ 0.2,  0.2,  0.4,  0.2]])"
      ]
     },
     "execution_count": 62,
     "metadata": {},
     "output_type": "execute_result"
    }
   ],
   "source": [
    "testModel.emissionprob_"
   ]
  },
  {
   "cell_type": "code",
   "execution_count": 63,
   "metadata": {
    "collapsed": false,
    "scrolled": true
   },
   "outputs": [
    {
     "data": {
      "text/plain": [
       "array([[ 0.2,  0.2,  0.4],\n",
       "       [ 0.2,  0.2,  0.2],\n",
       "       [ 0.4,  0.2,  0.2],\n",
       "       [ 0.2,  0.4,  0.2]])"
      ]
     },
     "execution_count": 63,
     "metadata": {},
     "output_type": "execute_result"
    }
   ],
   "source": [
    "testModel.emissionprob_[:, np.concatenate(X)].T"
   ]
  },
  {
   "cell_type": "code",
   "execution_count": 64,
   "metadata": {
    "collapsed": false
   },
   "outputs": [
    {
     "data": {
      "text/plain": [
       "array([[-1.60943791, -1.60943791, -0.91629073],\n",
       "       [-1.60943791, -1.60943791, -1.60943791],\n",
       "       [-0.91629073, -1.60943791, -1.60943791],\n",
       "       [-1.60943791, -0.91629073, -1.60943791]])"
      ]
     },
     "execution_count": 64,
     "metadata": {},
     "output_type": "execute_result"
    }
   ],
   "source": [
    "testModel._compute_log_likelihood(X)"
   ]
  },
  {
   "cell_type": "code",
   "execution_count": 71,
   "metadata": {
    "collapsed": false
   },
   "outputs": [
    {
     "data": {
      "text/plain": [
       "array([[ 0.33333333,  0.33333333,  0.33333333],\n",
       "       [ 0.33333333,  0.33333333,  0.33333333],\n",
       "       [ 0.33333333,  0.33333333,  0.33333333]])"
      ]
     },
     "execution_count": 71,
     "metadata": {},
     "output_type": "execute_result"
    }
   ],
   "source": [
    "testModel.transmat_"
   ]
  },
  {
   "cell_type": "code",
   "execution_count": null,
   "metadata": {
    "collapsed": true
   },
   "outputs": [],
   "source": []
  },
  {
   "cell_type": "code",
   "execution_count": null,
   "metadata": {
    "collapsed": true
   },
   "outputs": [],
   "source": []
  },
  {
   "cell_type": "code",
   "execution_count": null,
   "metadata": {
    "collapsed": true
   },
   "outputs": [],
   "source": []
  }
 ],
 "metadata": {
  "kernelspec": {
   "display_name": "Python 2",
   "language": "python",
   "name": "python2"
  },
  "language_info": {
   "codemirror_mode": {
    "name": "ipython",
    "version": 2
   },
   "file_extension": ".py",
   "mimetype": "text/x-python",
   "name": "python",
   "nbconvert_exporter": "python",
   "pygments_lexer": "ipython2",
   "version": "2.7.11"
  }
 },
 "nbformat": 4,
 "nbformat_minor": 0
}
